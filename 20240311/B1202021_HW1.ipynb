{
  "cells": [
    {
      "cell_type": "code",
      "source": [
        "a=(\"I'm a student\")\n",
        "print(a)"
      ],
      "metadata": {
        "id": "sTPgVkKPocUi",
        "outputId": "e233adaa-0d92-4766-82d8-99af4e0e869b",
        "colab": {
          "base_uri": "https://localhost:8080/"
        }
      },
      "execution_count": null,
      "outputs": [
        {
          "output_type": "stream",
          "name": "stdout",
          "text": [
            "I'm a student\n"
          ]
        }
      ]
    },
    {
      "cell_type": "code",
      "source": [
        "a=float(input('請輸入A的x1座標:'))\n",
        "print(a)\n",
        "b=float(input('請輸入A的y1座標:'))\n",
        "print(b)\n",
        "c=float(input('請輸入B的x2座標:'))\n",
        "print(c)\n",
        "d=float(input('請輸入B的y2座標:'))\n",
        "print(d)\n",
        "e=float(((a-c)**2+(b-d)**2)**0.5)\n",
        "print(e)"
      ],
      "metadata": {
        "id": "9yQPdwrEpG3Z",
        "colab": {
          "base_uri": "https://localhost:8080/"
        },
        "outputId": "a49fedb8-a90f-427c-8ae6-865967b43996"
      },
      "execution_count": null,
      "outputs": [
        {
          "output_type": "stream",
          "name": "stdout",
          "text": [
            "請輸入A的x1座標:1.2\n",
            "1.2\n",
            "請輸入A的y1座標:2.3\n",
            "2.3\n",
            "請輸入B的x2座標:6.2\n",
            "6.2\n",
            "請輸入B的y2座標:9.4\n",
            "9.4\n",
            "8.683893136145793\n"
          ]
        }
      ]
    },
    {
      "cell_type": "code",
      "source": [
        "a=float(input('請輸入體重(kg):'))\n",
        "print(a)\n",
        "b=float(input('請輸入身高(cm):'))\n",
        "print(b)\n",
        "c=(a/((b/100))**2)\n",
        "print(c)"
      ],
      "metadata": {
        "colab": {
          "base_uri": "https://localhost:8080/"
        },
        "id": "UIE4fLknshnh",
        "outputId": "9524884a-0a78-462c-8a38-af72849050a4"
      },
      "execution_count": null,
      "outputs": [
        {
          "output_type": "stream",
          "name": "stdout",
          "text": [
            "請輸入體重(kg):90\n",
            "90.0\n",
            "請輸入身高(cm):170\n",
            "170.0\n",
            "31.14186851211073\n"
          ]
        }
      ]
    }
  ],
  "metadata": {
    "colab": {
      "provenance": []
    },
    "kernelspec": {
      "display_name": "Python 3",
      "name": "python3"
    }
  },
  "nbformat": 4,
  "nbformat_minor": 0
}